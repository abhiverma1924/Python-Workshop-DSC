{
  "nbformat": 4,
  "nbformat_minor": 0,
  "metadata": {
    "colab": {
      "name": "loops.ipynb",
      "version": "0.3.2",
      "provenance": [],
      "include_colab_link": true
    },
    "kernelspec": {
      "name": "python3",
      "display_name": "Python 3"
    }
  },
  "cells": [
    {
      "cell_type": "markdown",
      "metadata": {
        "id": "view-in-github",
        "colab_type": "text"
      },
      "source": [
        "<a href=\"https://colab.research.google.com/github/abhiverma1924/Python-Workshop-DSC/blob/master/loops.ipynb\" target=\"_parent\"><img src=\"https://colab.research.google.com/assets/colab-badge.svg\" alt=\"Open In Colab\"/></a>"
      ]
    },
    {
      "cell_type": "code",
      "metadata": {
        "id": "XIgcnQKxT59e",
        "colab_type": "code",
        "colab": {}
      },
      "source": [
        "x = ['ab', 'cd'] \n",
        "for i in x: \n",
        "\tx.append(i.upper()) \n",
        "print(x) \n"
      ],
      "execution_count": 0,
      "outputs": []
    },
    {
      "cell_type": "code",
      "metadata": {
        "id": "1HbVf-dDUOH4",
        "colab_type": "code",
        "colab": {}
      },
      "source": [
        "mylist = ['geeks', 'forgeeks'] \n",
        "for i in mylist: \n",
        "\ti.upper() \n",
        "print(mylist) \n"
      ],
      "execution_count": 0,
      "outputs": []
    },
    {
      "cell_type": "code",
      "metadata": {
        "id": "xSq7xy3lWg5A",
        "colab_type": "code",
        "colab": {
          "base_uri": "https://localhost:8080/",
          "height": 108
        },
        "outputId": "790d0a64-ebe5-4f66-d15d-3dfbaeebb8d4"
      },
      "source": [
        "def pypart(n): \n",
        "\t\n",
        "\t# outer loop to handle number of rows \n",
        "\t# n in this case \n",
        "\tfor i in range(0, n): \n",
        "\t\n",
        "\t\t# inner loop to handle number of columns \n",
        "\t\t# values changing acc. to outer loop \n",
        "\t\tfor j in range(0, i+1): \n",
        "\t\t\n",
        "\t\t\t# printing stars \n",
        "\t\t\tprint(\"* \",end=\"\") \n",
        "\t\n",
        "\t\t# ending line after each row \n",
        "\t\tprint(\"\\r\") \n",
        "\n",
        "# Driver Code \n",
        "n = 5\n",
        "pypart(n) \n"
      ],
      "execution_count": 2,
      "outputs": [
        {
          "output_type": "stream",
          "text": [
            "* \r\n",
            "* * \r\n",
            "* * * \r\n",
            "* * * * \r\n",
            "* * * * * \r\n"
          ],
          "name": "stdout"
        }
      ]
    },
    {
      "cell_type": "code",
      "metadata": {
        "id": "dM_vRFAxXgXR",
        "colab_type": "code",
        "colab": {
          "base_uri": "https://localhost:8080/",
          "height": 108
        },
        "outputId": "64705f83-f9b9-48c6-b50e-2779a8e58553"
      },
      "source": [
        "def pypart2(n): \n",
        "\t\n",
        "\t# number of spaces \n",
        "\tk = 2*n - 2\n",
        "\n",
        "\t# outer loop to handle number of rows \n",
        "\tfor i in range(0, n): \n",
        "\t\n",
        "\t\t# inner loop to handle number spaces \n",
        "\t\t# values changing acc. to requirement \n",
        "\t\tfor j in range(0, k): \n",
        "\t\t\tprint(end=\" \") \n",
        "\t\n",
        "\t\t# decrementing k after each loop \n",
        "\t\tk = k - 2\n",
        "\t\n",
        "\t\t# inner loop to handle number of columns \n",
        "\t\t# values changing acc. to outer loop \n",
        "\t\tfor j in range(0, i+1): \n",
        "\t\t\n",
        "\t\t\t# printing stars \n",
        "\t\t\tprint(\"* \", end=\"\") \n",
        "\t\n",
        "\t\t# ending line after each row \n",
        "\t\tprint(\"\\r\") \n",
        "\n",
        "# Driver Code \n",
        "n = 5\n",
        "pypart2(n) \n"
      ],
      "execution_count": 4,
      "outputs": [
        {
          "output_type": "stream",
          "text": [
            "        * \r\n",
            "      * * \r\n",
            "    * * * \r\n",
            "  * * * * \r\n",
            "* * * * * \r\n"
          ],
          "name": "stdout"
        }
      ]
    },
    {
      "cell_type": "code",
      "metadata": {
        "id": "S2fJoRwHXyfM",
        "colab_type": "code",
        "colab": {
          "base_uri": "https://localhost:8080/",
          "height": 108
        },
        "outputId": "7d99b7c5-7af0-4bf4-a6e4-11c840ff96e0"
      },
      "source": [
        " def triangle(n): \n",
        "\t\n",
        "\t# number of spaces \n",
        "\tk = 2*n - 2\n",
        "\n",
        "\t# outer loop to handle number of rows \n",
        "\tfor i in range(0, n): \n",
        "\t\n",
        "\t\t# inner loop to handle number spaces \n",
        "\t\t# values changing acc. to requirement \n",
        "\t\tfor j in range(0, k): \n",
        "\t\t\tprint(end=\" \") \n",
        "\t\n",
        "\t\t# decrementing k after each loop \n",
        "\t\tk = k - 1\n",
        "\t\n",
        "\t\t# inner loop to handle number of columns \n",
        "\t\t# values changing acc. to outer loop \n",
        "\t\tfor j in range(0, i+1): \n",
        "\t\t\n",
        "\t\t\t# printing stars \n",
        "\t\t\tprint(\"* \", end=\"\") \n",
        "\t\n",
        "\t\t# ending line after each row \n",
        "\t\tprint(\"\\r\") \n",
        "\n",
        "# Driver Code \n",
        "n = 5\n",
        "triangle(n) \n"
      ],
      "execution_count": 6,
      "outputs": [
        {
          "output_type": "stream",
          "text": [
            "        * \r\n",
            "       * * \r\n",
            "      * * * \r\n",
            "     * * * * \r\n",
            "    * * * * * \r\n"
          ],
          "name": "stdout"
        }
      ]
    },
    {
      "cell_type": "code",
      "metadata": {
        "id": "ctFyUkMFX2Sk",
        "colab_type": "code",
        "colab": {
          "base_uri": "https://localhost:8080/",
          "height": 108
        },
        "outputId": "c28c7a1a-c7f4-4386-8f89-5b9a9a818f25"
      },
      "source": [
        " def contnum(n): \n",
        "\t\n",
        "\t# initializing starting number \n",
        "\tnum = 1\n",
        "\n",
        "\t# outer loop to handle number of rows \n",
        "\tfor i in range(0, n): \n",
        "\t\n",
        "\t\t# not re assigning num \n",
        "\t\t# num = 1 \n",
        "\t\n",
        "\t\t# inner loop to handle number of columns \n",
        "\t\t# values changing acc. to outer loop \n",
        "\t\tfor j in range(0, i+1): \n",
        "\t\t\n",
        "\t\t\t# printing number \n",
        "\t\t\tprint(num, end=\" \") \n",
        "\t\t\n",
        "\t\t\t# incrementing number at each column \n",
        "\t\t\tnum = num + 1\n",
        "\t\n",
        "\t\t# ending line after each row \n",
        "\t\tprint(\"\\r\") \n",
        "\n",
        "n = 5\n",
        "\n",
        "# sending 5 as argument \n",
        "# calling Function \n",
        "contnum(n) \n"
      ],
      "execution_count": 7,
      "outputs": [
        {
          "output_type": "stream",
          "text": [
            "1 \r\n",
            "2 3 \r\n",
            "4 5 6 \r\n",
            "7 8 9 10 \r\n",
            "11 12 13 14 15 \r\n"
          ],
          "name": "stdout"
        }
      ]
    },
    {
      "cell_type": "code",
      "metadata": {
        "id": "DhxLZ_fJYD5w",
        "colab_type": "code",
        "colab": {
          "base_uri": "https://localhost:8080/",
          "height": 108
        },
        "outputId": "313ca963-16b4-493c-c303-64c3e69e5746"
      },
      "source": [
        " def alphapat(n): \n",
        "\t\n",
        "\t# initializing value corresponding to 'A' \n",
        "\t# ASCII value \n",
        "\tnum = 65\n",
        "\n",
        "\t# outer loop to handle number of rows \n",
        "\t# 5 in this case \n",
        "\tfor i in range(0, n): \n",
        "\t\n",
        "\t\t# inner loop to handle number of columns \n",
        "\t\t# values changing acc. to outer loop \n",
        "\t\tfor j in range(0, i+1): \n",
        "\t\t\n",
        "\t\t\t# explicitely converting to char \n",
        "\t\t\tch = chr(num) \n",
        "\t\t\n",
        "\t\t\t# printing char value \n",
        "\t\t\tprint(ch, end=\" \") \n",
        "\t\n",
        "\t\t# incrementing number \n",
        "\t\tnum = num + 1\n",
        "\t\n",
        "\t\t# ending line after each row \n",
        "\t\tprint(\"\\r\") \n",
        "\n",
        "# Driver Code \n",
        "n = 5\n",
        "alphapat(n) \n"
      ],
      "execution_count": 10,
      "outputs": [
        {
          "output_type": "stream",
          "text": [
            "A \r\n",
            "B B \r\n",
            "C C C \r\n",
            "D D D D \r\n",
            "E E E E E \r\n"
          ],
          "name": "stdout"
        }
      ]
    },
    {
      "cell_type": "code",
      "metadata": {
        "id": "wAYu7UjFYFGi",
        "colab_type": "code",
        "colab": {
          "base_uri": "https://localhost:8080/",
          "height": 135
        },
        "outputId": "3329c218-8307-4f9e-df58-a7315f5bf565"
      },
      "source": [
        "\n",
        "def contalpha(n): \n",
        "\t\n",
        "\t# initializing value corresponding to 'A' \n",
        "\t# ASCII value \n",
        "\tnum = 65\n",
        "\n",
        "\t# outer loop to handle number of rows \n",
        "- for i in range(0, n): \n",
        "\t\n",
        "\t\t# inner loop to handle number of columns \n",
        "\t\t# values changing acc. to outer loop \n",
        "\t\tfor j in range(0, i+1): \n",
        "\t\t\n",
        "\t\t\t# explicitely converting to char \n",
        "\t\t\tch = chr(num) \n",
        "\t\t\n",
        "\t\t\t# printing char value \n",
        "\t\t\tprint(ch, end=\" \") \n",
        "\t\t\n",
        "\t\t\t# incrementing at each column \n",
        "\t\t\tnum = num +1\n",
        "\t\n",
        "\t\n",
        "\t\t# ending line after each row \n",
        "\t\tprint(\"\\r\") \n",
        "\n",
        "# Driver code \n",
        "n = 5\n",
        "contalpha(n) \n"
      ],
      "execution_count": 9,
      "outputs": [
        {
          "output_type": "error",
          "ename": "SyntaxError",
          "evalue": "ignored",
          "traceback": [
            "\u001b[0;36m  File \u001b[0;32m\"<ipython-input-9-ca59f8a3595b>\"\u001b[0;36m, line \u001b[0;32m9\u001b[0m\n\u001b[0;31m    - for i in range(0, n):\u001b[0m\n\u001b[0m        ^\u001b[0m\n\u001b[0;31mSyntaxError\u001b[0m\u001b[0;31m:\u001b[0m invalid syntax\n"
          ]
        }
      ]
    },
    {
      "cell_type": "code",
      "metadata": {
        "id": "THFWfrQvYKKy",
        "colab_type": "code",
        "colab": {}
      },
      "source": [
        ""
      ],
      "execution_count": 0,
      "outputs": []
    }
  ]
}