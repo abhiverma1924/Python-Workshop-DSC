{
 "cells": [
  {
   "cell_type": "code",
   "execution_count": 2,
   "metadata": {},
   "outputs": [
    {
     "name": "stdout",
     "output_type": "stream",
     "text": [
      "Enter a Number:\n",
      "2\n",
      "Enter a Number:\n",
      "4\n",
      "Enter a Number:\n",
      "5\n",
      "Enter a Number:\n",
      "7\n",
      "Enter a Number:\n",
      "1\n",
      "Enter a Number:\n",
      "-9\n",
      "Smallest Number is:\n",
      " 1\n",
      "Addition of all Numbers is:\n",
      " 19\n"
     ]
    }
   ],
   "source": [
    "# 2015 T1 SDF-1\n",
    "# Question 2\n",
    "\n",
    "sum = 0\n",
    "min = 0\n",
    "flag = True\n",
    "while True:\n",
    "    n = int(input(\"Enter a Number:\\n\")) \n",
    "    \n",
    "    if flag is True: # Only runs one time initially\n",
    "        min = n\n",
    "        flag = False\n",
    "        \n",
    "    if n < 0:\n",
    "        break\n",
    "    \n",
    "    sum += n\n",
    "    \n",
    "    if n < min:\n",
    "        min = n\n",
    "        \n",
    "print(\"Smallest Number is:\\n\", min)\n",
    "print(\"Addition of all Numbers is:\\n\", sum)\n",
    "\n",
    "#We took a flag variable as the initial value of min cannot be 0 since it will\n",
    "# always be the smallest. Either we put a very large value in min or we put the\n",
    "# first value in min"
   ]
  },
  {
   "cell_type": "code",
   "execution_count": 5,
   "metadata": {},
   "outputs": [
    {
     "name": "stdout",
     "output_type": "stream",
     "text": [
      "Enter a number:\n",
      "2\n",
      "Enter a number:\n",
      "4\n",
      "Enter a number:\n",
      "5\n",
      "Enter a number:\n",
      "3\n",
      "Enter a number:\n",
      "Q\n",
      "Sum is:\n",
      " 6\n",
      "Product is:\n",
      " 15\n"
     ]
    }
   ],
   "source": [
    "# 2016 T1 SDF-1\n",
    "# Question 1\n",
    "\n",
    "sum = 0\n",
    "product = 1\n",
    "while True:\n",
    "    n = input(\"Enter a number:\\n\")\n",
    "    if n is 'Q':\n",
    "        break\n",
    "    n = int(n)\n",
    "    if n % 2 == 0:\n",
    "        sum += n\n",
    "    else:\n",
    "        product *= n\n",
    "\n",
    "print(\"Sum is:\\n\",sum)\n",
    "print(\"Product is:\\n\",product)"
   ]
  },
  {
   "cell_type": "code",
   "execution_count": 13,
   "metadata": {},
   "outputs": [
    {
     "name": "stdout",
     "output_type": "stream",
     "text": [
      "Enter A Sentence\n",
      "I!! Am a ..,,,?? A?? a Monster!!..\n",
      "Clean Sentence is:\n",
      " I Am a  A a Monster\n",
      "Array is:\n",
      " ['I', ' ', 'A', 'm', ' ', 'a', ' ', ' ', 'A', ' ', 'a', ' ', 'M', 'o', 'n', 's', 't', 'e', 'r']\n"
     ]
    }
   ],
   "source": [
    "# 2015 T1 SDF-1\n",
    "# Question 2\n",
    "\n",
    "sentence = str(input(\"Enter A Sentence\\n\"))\n",
    "punctuation_marks = ['!', ',', '?', '.']\n",
    "l = len(sentence)\n",
    "i=0\n",
    "while i<l: \n",
    "    if sentence[i] in punctuation_marks:\n",
    "        sentence = sentence[:i] + sentence[i+1:]\n",
    "        l-=1\n",
    "        i-=1\n",
    "    i+=1\n",
    "    \n",
    "li = []\n",
    "for i in sentence:\n",
    "    li.append(i)\n",
    "print(\"Clean Sentence is:\\n\",sentence)\n",
    "print(\"Array is:\\n\",li)"
   ]
  },
  {
   "cell_type": "code",
   "execution_count": null,
   "metadata": {},
   "outputs": [],
   "source": []
  }
 ],
 "metadata": {
  "kernelspec": {
   "display_name": "Python 3",
   "language": "python",
   "name": "python3"
  },
  "language_info": {
   "codemirror_mode": {
    "name": "ipython",
    "version": 3
   },
   "file_extension": ".py",
   "mimetype": "text/x-python",
   "name": "python",
   "nbconvert_exporter": "python",
   "pygments_lexer": "ipython3",
   "version": "3.7.3"
  }
 },
 "nbformat": 4,
 "nbformat_minor": 2
}
