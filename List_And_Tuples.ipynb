{
  "nbformat": 4,
  "nbformat_minor": 0,
  "metadata": {
    "colab": {
      "name": "List And Tuples.ipynb",
      "version": "0.3.2",
      "provenance": [],
      "include_colab_link": true
    },
    "kernelspec": {
      "name": "python3",
      "display_name": "Python 3"
    }
  },
  "cells": [
    {
      "cell_type": "markdown",
      "metadata": {
        "id": "view-in-github",
        "colab_type": "text"
      },
      "source": [
        "<a href=\"https://colab.research.google.com/github/abhiverma1924/Python-Workshop-DSC/blob/master/List_And_Tuples.ipynb\" target=\"_parent\"><img src=\"https://colab.research.google.com/assets/colab-badge.svg\" alt=\"Open In Colab\"/></a>"
      ]
    },
    {
      "cell_type": "code",
      "metadata": {
        "id": "x9NfLi0KOqTE",
        "colab_type": "code",
        "colab": {
          "base_uri": "https://localhost:8080/",
          "height": 90
        },
        "outputId": "73cc6084-3a77-4569-87bc-e7b2bd159e96"
      },
      "source": [
        "list1 = ['physics', 'chemistry', 1997, 2000] \n",
        "\n",
        "list2 = [1, 2, 3, 4, 5, 6, 7 ] \n",
        "\n",
        "print (\"list1[0]:\", list1[0])\t #statement 1 \n",
        "print (\"list1[0]:\", list1[-2])\t #statement 2 \n",
        "print (\"list1[-2]:\", list1[1:])\t #statement 3 \n",
        "print (\"list2[1:5]:\", list2[1:5]) #statement 4 \n"
      ],
      "execution_count": 3,
      "outputs": [
        {
          "output_type": "stream",
          "text": [
            "list1[0]: physics\n",
            "list1[0]: 1997\n",
            "list1[-2]: ['chemistry', 1997, 2000]\n",
            "list2[1:5]: [2, 3, 4, 5]\n"
          ],
          "name": "stdout"
        }
      ]
    },
    {
      "cell_type": "code",
      "metadata": {
        "id": "_mKnroYiPKTG",
        "colab_type": "code",
        "colab": {
          "base_uri": "https://localhost:8080/",
          "height": 54
        },
        "outputId": "494bf246-7820-4642-a241-f3ede2e2b62c"
      },
      "source": [
        "list1 = [1998, 2002, 1997, 2000] \n",
        "list2 = [2014, 2016, 1996, 2009] \n",
        "\n",
        "print (\"list1 + list 2 = : \", list1 + list2) #statement 1 \n",
        "\n",
        "print (\"list1 * 2 = : \", list1 * 2) #statement 2 \n"
      ],
      "execution_count": 4,
      "outputs": [
        {
          "output_type": "stream",
          "text": [
            "list1 + list 2 = :  [1998, 2002, 1997, 2000, 2014, 2016, 1996, 2009]\n",
            "list1 * 2 = :  [1998, 2002, 1997, 2000, 1998, 2002, 1997, 2000]\n"
          ],
          "name": "stdout"
        }
      ]
    },
    {
      "cell_type": "code",
      "metadata": {
        "id": "Z54RB7yhPpv1",
        "colab_type": "code",
        "colab": {
          "base_uri": "https://localhost:8080/",
          "height": 54
        },
        "outputId": "c06572ae-73eb-46b0-d3bf-4842902057b7"
      },
      "source": [
        "list1 = ['physics', 'chemistry', 1997, 2000] \n",
        "\n",
        "print (\"list1[1][1]: \", list1[1][1] )#statement 1 \n",
        "\n",
        "print (\"list1[1][-1]: \", list1[1][-1]) #statement 2 \n"
      ],
      "execution_count": 5,
      "outputs": [
        {
          "output_type": "stream",
          "text": [
            "list1[1][1]:  h\n",
            "list1[1][-1]:  y\n"
          ],
          "name": "stdout"
        }
      ]
    },
    {
      "cell_type": "code",
      "metadata": {
        "id": "NxrG6MC6Pzg7",
        "colab_type": "code",
        "colab": {
          "base_uri": "https://localhost:8080/",
          "height": 35
        },
        "outputId": "9a67e432-e2b2-4476-b717-b42879da5978"
      },
      "source": [
        "List = [True, 50, 10] \n",
        "List.insert(2, 5)\t \n",
        "print(List, \"Sum is: \", sum(List)) \n"
      ],
      "execution_count": 6,
      "outputs": [
        {
          "output_type": "stream",
          "text": [
            "[True, 50, 5, 10] Sum is:  66\n"
          ],
          "name": "stdout"
        }
      ]
    },
    {
      "cell_type": "code",
      "metadata": {
        "id": "a5H9g5BhRArD",
        "colab_type": "code",
        "colab": {}
      },
      "source": [
        "L = [1, 3, 5, 7, 9] \n",
        "print(L.pop(-3), end = ' ') \n",
        "print(L.remove(L[0]), end = ' ') \n",
        "print(L) \n"
      ],
      "execution_count": 0,
      "outputs": []
    },
    {
      "cell_type": "code",
      "metadata": {
        "id": "I9mTw_6vRyMi",
        "colab_type": "code",
        "colab": {}
      },
      "source": [
        "L1 = list() \n",
        "L1.append([1, [2, 3], 4]) \n",
        "L1.extend([7, 8, 9]) \n",
        "print(L1[0][1][1] + L1[2]) \n"
      ],
      "execution_count": 0,
      "outputs": []
    },
    {
      "cell_type": "code",
      "metadata": {
        "id": "TYmD0DxiSA63",
        "colab_type": "code",
        "colab": {
          "base_uri": "https://localhost:8080/",
          "height": 35
        },
        "outputId": "54468f78-5504-42eb-9941-8fdd8266ab8d"
      },
      "source": [
        "T1 = (1) \n",
        "T2 = (3, 4) \n",
        "T1 += 5\n",
        "print(T1) \n",
        "#print(T1 + T2) \n"
      ],
      "execution_count": 8,
      "outputs": [
        {
          "output_type": "stream",
          "text": [
            "6\n"
          ],
          "name": "stdout"
        }
      ]
    },
    {
      "cell_type": "code",
      "metadata": {
        "id": "5ysIGEawSCGC",
        "colab_type": "code",
        "colab": {}
      },
      "source": [
        "tuple = (1, 2, 3, 4) \n",
        "tuple.append( (5, 6, 7) ) \n",
        "print(len(my_tuple)) \n"
      ],
      "execution_count": 0,
      "outputs": []
    },
    {
      "cell_type": "code",
      "metadata": {
        "id": "Yzl1Kk6NScng",
        "colab_type": "code",
        "colab": {}
      },
      "source": [
        "tuple = (1, 2, 3) \n",
        "print(2 * tuple) \n"
      ],
      "execution_count": 0,
      "outputs": []
    },
    {
      "cell_type": "code",
      "metadata": {
        "id": "yp3Zp18_SgKe",
        "colab_type": "code",
        "colab": {}
      },
      "source": [
        "tuple1 = (1, 2, 4, 3) \n",
        "tuple2 = (1, 2, 3, 4) \n",
        "print(tuple1 < tuple2) \n"
      ],
      "execution_count": 0,
      "outputs": []
    }
  ]
}